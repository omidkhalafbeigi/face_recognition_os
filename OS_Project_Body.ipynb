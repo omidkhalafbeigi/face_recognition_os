{
  "nbformat": 4,
  "nbformat_minor": 0,
  "metadata": {
    "colab": {
      "name": "OS_Project_Body.ipynb",
      "provenance": [],
      "collapsed_sections": []
    },
    "kernelspec": {
      "name": "python3",
      "display_name": "Python 3"
    }
  },
  "cells": [
    {
      "cell_type": "code",
      "metadata": {
        "id": "dTaeJR1LScc-"
      },
      "source": [
        "import os\n",
        "import pandas as pd\n",
        "import cv2 as cv\n",
        "import numpy as np\n",
        "import matplotlib.pyplot as plt\n",
        "import tensorflow as tf\n",
        "from tensorflow.keras.preprocessing.image import ImageDataGenerator"
      ],
      "execution_count": null,
      "outputs": []
    },
    {
      "cell_type": "code",
      "metadata": {
        "id": "-bFlNEYwykKC"
      },
      "source": [
        "root = 'drive/My Drive'"
      ],
      "execution_count": null,
      "outputs": []
    },
    {
      "cell_type": "code",
      "metadata": {
        "id": "Vvs2RVEe5xNg"
      },
      "source": [
        "img_train = ImageDataGenerator(rescale=1./255)\n",
        "img_test = ImageDataGenerator(rescale=1./255)"
      ],
      "execution_count": null,
      "outputs": []
    },
    {
      "cell_type": "code",
      "metadata": {
        "id": "1WY3PzIFAl7O",
        "colab": {
          "base_uri": "https://localhost:8080/",
          "height": 51
        },
        "outputId": "74fbc1e6-f779-4727-a1e0-a8ed217bc364"
      },
      "source": [
        "training_data = img_train.flow_from_directory(directory=os.path.join(root, 'OS'), target_size=(128, 128), class_mode='binary')\n",
        "test_data = img_test.flow_from_directory(directory=os.path.join(root, 'testset'), target_size=(128, 128), class_mode='binary')"
      ],
      "execution_count": null,
      "outputs": [
        {
          "output_type": "stream",
          "text": [
            "Found 10201 images belonging to 2 classes.\n",
            "Found 100 images belonging to 2 classes.\n"
          ],
          "name": "stdout"
        }
      ]
    },
    {
      "cell_type": "code",
      "metadata": {
        "id": "jFAuC63xCHdN"
      },
      "source": [
        "cnn = tf.keras.Sequential()"
      ],
      "execution_count": null,
      "outputs": []
    },
    {
      "cell_type": "code",
      "metadata": {
        "id": "hM2gypS9Coox"
      },
      "source": [
        "cnn.add(tf.keras.layers.Conv2D(32, kernel_size=(3, 3), padding='same', activation='relu', input_shape=(128, 128, 3)))"
      ],
      "execution_count": null,
      "outputs": []
    },
    {
      "cell_type": "code",
      "metadata": {
        "id": "pm3aYeASBArH"
      },
      "source": [
        "cnn.add(tf.keras.layers.MaxPool2D(pool_size=(2, 2), strides=(1, 1), padding='same'))"
      ],
      "execution_count": null,
      "outputs": []
    },
    {
      "cell_type": "code",
      "metadata": {
        "id": "UF_lZo1sCzxV"
      },
      "source": [
        "cnn.add(tf.keras.layers.Conv2D(32, kernel_size=(3, 3), padding='same', activation='relu'))"
      ],
      "execution_count": null,
      "outputs": []
    },
    {
      "cell_type": "code",
      "metadata": {
        "id": "a_c8vZgqC97O"
      },
      "source": [
        "cnn.add(tf.keras.layers.MaxPool2D(pool_size=(2, 2), strides=(1, 1), padding='same'))"
      ],
      "execution_count": null,
      "outputs": []
    },
    {
      "cell_type": "code",
      "metadata": {
        "id": "Z-qSRVuJP3kQ"
      },
      "source": [
        "cnn.add(tf.keras.layers.Conv2D(32, kernel_size=(3, 3), padding='same', activation='relu'))"
      ],
      "execution_count": null,
      "outputs": []
    },
    {
      "cell_type": "code",
      "metadata": {
        "id": "l3KXeiqvP3s8"
      },
      "source": [
        "cnn.add(tf.keras.layers.MaxPool2D(pool_size=(2, 2), strides=(1, 1), padding='same'))"
      ],
      "execution_count": null,
      "outputs": []
    },
    {
      "cell_type": "code",
      "metadata": {
        "id": "Orx_IciHDB9s"
      },
      "source": [
        "cnn.add(tf.keras.layers.Flatten())"
      ],
      "execution_count": null,
      "outputs": []
    },
    {
      "cell_type": "code",
      "metadata": {
        "id": "Ktqkp9haDJHI"
      },
      "source": [
        "cnn.add(tf.keras.layers.Dense(16, activation='relu'))\n",
        "cnn.add(tf.keras.layers.Dropout(0.5))"
      ],
      "execution_count": null,
      "outputs": []
    },
    {
      "cell_type": "code",
      "metadata": {
        "id": "kABaW4F3DO7f"
      },
      "source": [
        "cnn.add(tf.keras.layers.Dense(12, activation='relu'))\n",
        "cnn.add(tf.keras.layers.Dropout(0.5))"
      ],
      "execution_count": null,
      "outputs": []
    },
    {
      "cell_type": "code",
      "metadata": {
        "id": "KXzMk7aQDQpk"
      },
      "source": [
        "cnn.add(tf.keras.layers.Dense(1, activation='sigmoid'))"
      ],
      "execution_count": null,
      "outputs": []
    },
    {
      "cell_type": "code",
      "metadata": {
        "id": "nM5MPKOWDWcj"
      },
      "source": [
        "cnn.compile(optimizer='adam', loss='binary_crossentropy', metrics=['accuracy'])"
      ],
      "execution_count": null,
      "outputs": []
    },
    {
      "cell_type": "code",
      "metadata": {
        "id": "59E6icB-Dl0Q",
        "colab": {
          "base_uri": "https://localhost:8080/",
          "height": 204
        },
        "outputId": "f19a5653-0bc6-479b-9b5b-75029b3aff44"
      },
      "source": [
        "cnn.fit(x=training_data, validation_data=test_data, batch_size=256, epochs=5)"
      ],
      "execution_count": null,
      "outputs": [
        {
          "output_type": "stream",
          "text": [
            "Epoch 1/5\n",
            "319/319 [==============================] - 4734s 15s/step - loss: 0.6868 - accuracy: 0.5615 - val_loss: 0.6812 - val_accuracy: 0.6400\n",
            "Epoch 2/5\n",
            "319/319 [==============================] - 896s 3s/step - loss: 0.6297 - accuracy: 0.5909 - val_loss: 0.6723 - val_accuracy: 0.6500\n",
            "Epoch 3/5\n",
            "319/319 [==============================] - 896s 3s/step - loss: 0.6271 - accuracy: 0.5925 - val_loss: 0.6687 - val_accuracy: 0.6500\n",
            "Epoch 4/5\n",
            "319/319 [==============================] - 892s 3s/step - loss: 0.6205 - accuracy: 0.6012 - val_loss: 0.6666 - val_accuracy: 0.6500\n",
            "Epoch 5/5\n",
            "319/319 [==============================] - 891s 3s/step - loss: 0.6272 - accuracy: 0.5928 - val_loss: 0.6667 - val_accuracy: 0.6500\n"
          ],
          "name": "stdout"
        },
        {
          "output_type": "execute_result",
          "data": {
            "text/plain": [
              "<tensorflow.python.keras.callbacks.History at 0x7f0ccba58780>"
            ]
          },
          "metadata": {
            "tags": []
          },
          "execution_count": 17
        }
      ]
    },
    {
      "cell_type": "code",
      "metadata": {
        "id": "mW4J-dLWK8yq",
        "colab": {
          "base_uri": "https://localhost:8080/",
          "height": 156
        },
        "outputId": "80cc7055-30ba-4985-9923-93e0b03c2622"
      },
      "source": [
        "cnn.save(filepath='drive/My Drive/FaceRecognition_Model_16-12')"
      ],
      "execution_count": null,
      "outputs": [
        {
          "output_type": "stream",
          "text": [
            "WARNING:tensorflow:From /usr/local/lib/python3.6/dist-packages/tensorflow/python/training/tracking/tracking.py:111: Model.state_updates (from tensorflow.python.keras.engine.training) is deprecated and will be removed in a future version.\n",
            "Instructions for updating:\n",
            "This property should not be used in TensorFlow 2.0, as updates are applied automatically.\n",
            "WARNING:tensorflow:From /usr/local/lib/python3.6/dist-packages/tensorflow/python/training/tracking/tracking.py:111: Layer.updates (from tensorflow.python.keras.engine.base_layer) is deprecated and will be removed in a future version.\n",
            "Instructions for updating:\n",
            "This property should not be used in TensorFlow 2.0, as updates are applied automatically.\n",
            "INFO:tensorflow:Assets written to: drive/My Drive/FaceRecognition_Model_16-12/assets\n"
          ],
          "name": "stdout"
        }
      ]
    },
    {
      "cell_type": "code",
      "metadata": {
        "id": "J2SyzZGgqBYo"
      },
      "source": [
        ""
      ],
      "execution_count": null,
      "outputs": []
    }
  ]
}